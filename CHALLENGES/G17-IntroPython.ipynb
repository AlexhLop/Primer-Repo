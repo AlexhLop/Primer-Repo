{
 "cells": [
  {
   "cell_type": "markdown",
   "metadata": {},
   "source": []
  },
  {
   "cell_type": "markdown",
   "metadata": {},
   "source": [
    "1. Escriba una función de Python para encontrar el máximo de tres números. "
   ]
  },
  {
   "cell_type": "code",
   "execution_count": 7,
   "metadata": {},
   "outputs": [],
   "source": [
    "def mas_grande(a,b,c):\n",
    "    return max (a,b,c)"
   ]
  },
  {
   "cell_type": "code",
   "execution_count": 8,
   "metadata": {},
   "outputs": [
    {
     "data": {
      "text/plain": [
       "3"
      ]
     },
     "execution_count": 8,
     "metadata": {},
     "output_type": "execute_result"
    }
   ],
   "source": [
    "mas_grande (1,2,3)"
   ]
  },
  {
   "cell_type": "markdown",
   "metadata": {},
   "source": [
    "2. Escriba una función de Python para sumar todos los números en una lista.\n",
    "Lista de muestras : (8, 2, 3, 0, 7)\n",
    "Salida esperada : 20"
   ]
  },
  {
   "cell_type": "code",
   "execution_count": 14,
   "metadata": {},
   "outputs": [],
   "source": [
    "def suma_de_todos(a,b,c,d,e):\n",
    "    return (a+b+c+d+e)"
   ]
  },
  {
   "cell_type": "code",
   "execution_count": 17,
   "metadata": {},
   "outputs": [
    {
     "data": {
      "text/plain": [
       "20"
      ]
     },
     "execution_count": 17,
     "metadata": {},
     "output_type": "execute_result"
    }
   ],
   "source": [
    "suma_de_todos(8,2,3,0,7)"
   ]
  },
  {
   "cell_type": "markdown",
   "metadata": {},
   "source": [
    "3. Escribe una función de Python para multiplicar todos los números de una lista.\n",
    "Lista de muestras : (8, 2, 3, -1, 7)\n",
    "Salida esperada : -336"
   ]
  },
  {
   "cell_type": "code",
   "execution_count": 29,
   "metadata": {},
   "outputs": [],
   "source": [
    "def multi_de_todos(a,b,c,d,e):\n",
    "    return (a*b*c*d*e)"
   ]
  },
  {
   "cell_type": "code",
   "execution_count": 30,
   "metadata": {},
   "outputs": [
    {
     "data": {
      "text/plain": [
       "-336"
      ]
     },
     "execution_count": 30,
     "metadata": {},
     "output_type": "execute_result"
    }
   ],
   "source": [
    "multi_de_todos(8,2,3,-1,7)"
   ]
  },
  {
   "cell_type": "markdown",
   "metadata": {},
   "source": [
    "4. Escriba un programa en Python para invertir una cadena.\n",
    "Cadena de muestra : \"1234abcd\"\n",
    "Salida esperada : \"dcba4321\""
   ]
  },
  {
   "cell_type": "code",
   "execution_count": 20,
   "metadata": {},
   "outputs": [
    {
     "data": {
      "text/plain": [
       "[6, 35, 2]"
      ]
     },
     "execution_count": 20,
     "metadata": {},
     "output_type": "execute_result"
    }
   ],
   "source": [
    "def reverse(a):\n",
    "    return a[::-1]\n",
    "a=[1,2,3,4]\n",
    "reverse([2,35,6])"
   ]
  },
  {
   "cell_type": "markdown",
   "metadata": {},
   "source": [
    "5. Escriba una función de Python para calcular el factorial de un número (un entero no negativo). La función acepta el número como argumento."
   ]
  },
  {
   "cell_type": "code",
   "execution_count": 33,
   "metadata": {},
   "outputs": [
    {
     "name": "stdout",
     "output_type": "stream",
     "text": [
      "1\n"
     ]
    }
   ],
   "source": [
    "def factorial(x):\n",
    "    if x == 0:\n",
    "        return 1\n",
    "    else:\n",
    "        fac = x*(x-1)\n",
    "        for n in range(x-2,0,-1):\n",
    "            fac = fac*n\n",
    "    return fac\n",
    "print(factorial(0))   \n"
   ]
  },
  {
   "cell_type": "markdown",
   "metadata": {},
   "source": [
    "6. Escriba una función de Python para verificar si un número cae en un rango dado."
   ]
  },
  {
   "cell_type": "code",
   "execution_count": 36,
   "metadata": {},
   "outputs": [
    {
     "name": "stdout",
     "output_type": "stream",
     "text": [
      "35.5 está en el rango específicado\n"
     ]
    }
   ],
   "source": [
    "def rango(x,n):\n",
    "    if n in range(*x):\n",
    "        return(f\"{n} está en el rango específicado\")\n",
    "    else:\n",
    "        return(f\"{n} no está en el rango específicado\")\n",
    "\n",
    "def rango2(x,n):\n",
    "    if n<= max(x) and n>= min(x):\n",
    "        return(f\"{n} está en el rango específicado\")\n",
    "    else:\n",
    "        return(f\"{n} no está en el rango específicado\")\n",
    "\n",
    "print(rango2([34,70],35.5))"
   ]
  },
  {
   "cell_type": "markdown",
   "metadata": {},
   "source": [
    "7. Escriba una función de Python que acepte una cadena y calcule el número de letras mayúsculas y minúsculas."
   ]
  },
  {
   "cell_type": "code",
   "execution_count": 37,
   "metadata": {},
   "outputs": [
    {
     "name": "stdout",
     "output_type": "stream",
     "text": [
      "El número de letras mayúsculas es 1 y el número de letras minúsculas es 8\n"
     ]
    }
   ],
   "source": [
    "def count_upper_lower(string):\n",
    "    cont_mayus = 0\n",
    "    cont_minus = 0\n",
    "    for letter in string:\n",
    "        if letter == letter.upper():\n",
    "            cont_mayus+= 1\n",
    "        elif letter == letter.lower():\n",
    "            cont_minus += 1\n",
    "    return f\"El número de letras mayúsculas es {cont_mayus} y el número de letras minúsculas es {cont_minus}\"\n",
    "print(count_upper_lower(\"Holamundo\"))"
   ]
  },
  {
   "cell_type": "markdown",
   "metadata": {},
   "source": [
    "8. Escriba una función de Python que tome una lista y devuelva una nueva lista con elementos únicos de la primera lista."
   ]
  },
  {
   "cell_type": "code",
   "execution_count": 41,
   "metadata": {},
   "outputs": [
    {
     "name": "stdout",
     "output_type": "stream",
     "text": [
      "{4, 5, 6, 7}\n",
      "[4, 5, 6, 7]\n"
     ]
    }
   ],
   "source": [
    "lista1 = [4,5,6,7,7,7]\n",
    "\n",
    "conjunto1 = set(lista1)\n",
    "\n",
    "print(conjunto1)\n",
    "\n",
    "def valores_unicos(lista):\n",
    "    conjunto1 = set(lista)\n",
    "    return list(conjunto1)\n",
    "print(valores_unicos([4,5,6,7,7,7,4,4]))"
   ]
  },
  {
   "cell_type": "markdown",
   "metadata": {},
   "source": []
  }
 ],
 "metadata": {
  "interpreter": {
   "hash": "63d0992c078f6b4626496cc543931f7f5dcad294601dc271af54c4e557a3412f"
  },
  "kernelspec": {
   "display_name": "Python 3.10.4 64-bit",
   "language": "python",
   "name": "python3"
  },
  "language_info": {
   "codemirror_mode": {
    "name": "ipython",
    "version": 3
   },
   "file_extension": ".py",
   "mimetype": "text/x-python",
   "name": "python",
   "nbconvert_exporter": "python",
   "pygments_lexer": "ipython3",
   "version": "3.10.4"
  },
  "orig_nbformat": 4
 },
 "nbformat": 4,
 "nbformat_minor": 2
}
